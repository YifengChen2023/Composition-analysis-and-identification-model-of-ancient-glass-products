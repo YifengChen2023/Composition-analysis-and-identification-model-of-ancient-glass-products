{
 "cells": [
  {
   "cell_type": "code",
   "execution_count": 35,
   "metadata": {},
   "outputs": [],
   "source": [
    "import numpy as np\n",
    "import openpyxl"
   ]
  },
  {
   "cell_type": "code",
   "execution_count": 69,
   "metadata": {},
   "outputs": [],
   "source": [
    "from scipy.stats import kstest, shapiro\n",
    "#cdf中可以指定要检验的分布，norm表示我们需要检验的是正态分布\n",
    "#常见的分布包括norm,logistic,expon,gumbel等"
   ]
  },
  {
   "cell_type": "markdown",
   "metadata": {},
   "source": [
    "构建json用于存储数据"
   ]
  },
  {
   "cell_type": "code",
   "execution_count": 102,
   "metadata": {},
   "outputs": [],
   "source": [
    "configs = {\n",
    "    \"铅钡\": {\n",
    "        \"xlsx\": \"铅钡玻璃化学成分.xlsx\",\n",
    "        \"row\": 50,\n",
    "        \"fenghua_col\": \"T\",\n",
    "        \"list\": [\"B\", \"C\", \"E\", \"J\", \"L\", \"M\"],\n",
    "        \"names\": [],\n",
    "        \"data\": {\n",
    "            \"风化\": [],\n",
    "            \"无风化\": [],\n",
    "        },\n",
    "    },\n",
    "    \"高钾\": {\n",
    "        \"xlsx\": \"高钾玻璃化学成分.xlsx\",\n",
    "        \"row\": 19,\n",
    "        \"fenghua_col\": \"R\",\n",
    "        \"list\": [\"B\", \"D\", \"E\", \"F\", \"G\", \"H\"],\n",
    "        \"names\": [],\n",
    "        \"data\": {\n",
    "            \"风化\": [],\n",
    "            \"无风化\": [],\n",
    "        },\n",
    "    }\n",
    "}\n",
    "# 同时包括风化与无风化，铅钡和高钾，总计四类"
   ]
  },
  {
   "cell_type": "code",
   "execution_count": 103,
   "metadata": {},
   "outputs": [
    {
     "data": {
      "text/plain": [
       "{'铅钡': {'xlsx': '铅钡玻璃化学成分.xlsx',\n",
       "  'row': 50,\n",
       "  'fenghua_col': 'T',\n",
       "  'list': ['B', 'C', 'E', 'J', 'L', 'M'],\n",
       "  'names': ['二氧化硅(SiO2)',\n",
       "   '氧化钠(Na2O)',\n",
       "   '氧化钙(CaO)',\n",
       "   '氧化铅(PbO)',\n",
       "   '五氧化二磷(P2O5)',\n",
       "   '氧化锶(SrO)'],\n",
       "  'data': {'风化': [[28.79,\n",
       "     17.98,\n",
       "     29.15,\n",
       "     25.42,\n",
       "     36.28,\n",
       "     33.59,\n",
       "     12.41,\n",
       "     21.7,\n",
       "     24.61,\n",
       "     21.35,\n",
       "     25.74,\n",
       "     22.28,\n",
       "     17.11,\n",
       "     18.46,\n",
       "     35.78,\n",
       "     39.57,\n",
       "     32.93,\n",
       "     26.25,\n",
       "     20.14,\n",
       "     4.61,\n",
       "     19.79,\n",
       "     3.72,\n",
       "     29.64,\n",
       "     53.33,\n",
       "     16.71,\n",
       "     30.39],\n",
       "    [0,\n",
       "     0,\n",
       "     0,\n",
       "     0,\n",
       "     0,\n",
       "     0,\n",
       "     0,\n",
       "     0,\n",
       "     0,\n",
       "     0,\n",
       "     1.22,\n",
       "     0,\n",
       "     0,\n",
       "     0,\n",
       "     0,\n",
       "     2.22,\n",
       "     1.38,\n",
       "     0,\n",
       "     0,\n",
       "     0,\n",
       "     0,\n",
       "     0,\n",
       "     0,\n",
       "     0.8,\n",
       "     0,\n",
       "     0],\n",
       "    [4.58,\n",
       "     3.19,\n",
       "     1.21,\n",
       "     1.31,\n",
       "     2.34,\n",
       "     3.51,\n",
       "     5.24,\n",
       "     6.4,\n",
       "     3.58,\n",
       "     5.13,\n",
       "     2.27,\n",
       "     3.19,\n",
       "     0,\n",
       "     4.96,\n",
       "     0.78,\n",
       "     0.37,\n",
       "     0.68,\n",
       "     1.11,\n",
       "     1.48,\n",
       "     3.19,\n",
       "     1.44,\n",
       "     3.01,\n",
       "     2.93,\n",
       "     2.82,\n",
       "     1.87,\n",
       "     3.49],\n",
       "    [34.18,\n",
       "     44,\n",
       "     41.25,\n",
       "     45.1,\n",
       "     47.43,\n",
       "     25.39,\n",
       "     59.85,\n",
       "     44.75,\n",
       "     40.24,\n",
       "     51.34,\n",
       "     47.42,\n",
       "     55.46,\n",
       "     58.46,\n",
       "     44.12,\n",
       "     46.55,\n",
       "     41.61,\n",
       "     49.31,\n",
       "     61.03,\n",
       "     28.68,\n",
       "     32.45,\n",
       "     29.53,\n",
       "     29.92,\n",
       "     42.82,\n",
       "     15.71,\n",
       "     70.21,\n",
       "     39.35],\n",
       "    [11.1,\n",
       "     6.34,\n",
       "     2.54,\n",
       "     0,\n",
       "     3.57,\n",
       "     9.38,\n",
       "     0,\n",
       "     12.83,\n",
       "     8.1,\n",
       "     8.75,\n",
       "     5.71,\n",
       "     4.24,\n",
       "     14.13,\n",
       "     7.46,\n",
       "     0.34,\n",
       "     0.07,\n",
       "     0.48,\n",
       "     1.16,\n",
       "     3.59,\n",
       "     7.56,\n",
       "     3.13,\n",
       "     6.04,\n",
       "     8.83,\n",
       "     1.1,\n",
       "     1.77,\n",
       "     8.99],\n",
       "    [0.46,\n",
       "     0.66,\n",
       "     0,\n",
       "     0,\n",
       "     0.19,\n",
       "     0.37,\n",
       "     0.64,\n",
       "     0.47,\n",
       "     0.39,\n",
       "     0,\n",
       "     0.44,\n",
       "     0.88,\n",
       "     1.12,\n",
       "     0.47,\n",
       "     0.22,\n",
       "     0.22,\n",
       "     0.41,\n",
       "     0.61,\n",
       "     0.37,\n",
       "     0.53,\n",
       "     0.45,\n",
       "     0.62,\n",
       "     0.19,\n",
       "     0.25,\n",
       "     0.68,\n",
       "     0.24]],\n",
       "   '无风化': [[54.61,\n",
       "     45.02,\n",
       "     53.79,\n",
       "     49.01,\n",
       "     37.36,\n",
       "     68.08,\n",
       "     63.3,\n",
       "     51.26,\n",
       "     51.33,\n",
       "     60.74,\n",
       "     61.28,\n",
       "     55.21,\n",
       "     51.54,\n",
       "     63.66,\n",
       "     50.61,\n",
       "     69.71,\n",
       "     65.91,\n",
       "     34.34,\n",
       "     36.93,\n",
       "     75.51,\n",
       "     60.12,\n",
       "     31.94,\n",
       "     65.91],\n",
       "    [0,\n",
       "     0,\n",
       "     7.92,\n",
       "     2.71,\n",
       "     0,\n",
       "     0,\n",
       "     0.92,\n",
       "     5.74,\n",
       "     5.68,\n",
       "     3.06,\n",
       "     2.66,\n",
       "     0,\n",
       "     4.66,\n",
       "     3.04,\n",
       "     2.31,\n",
       "     0,\n",
       "     0,\n",
       "     0,\n",
       "     0,\n",
       "     0,\n",
       "     0,\n",
       "     0,\n",
       "     0],\n",
       "    [2.08,\n",
       "     3.12,\n",
       "     0.5,\n",
       "     1.13,\n",
       "     0,\n",
       "     1.34,\n",
       "     2.98,\n",
       "     0.79,\n",
       "     0,\n",
       "     2.14,\n",
       "     0.84,\n",
       "     0,\n",
       "     0.87,\n",
       "     0.78,\n",
       "     0.63,\n",
       "     0.46,\n",
       "     0.38,\n",
       "     4.49,\n",
       "     4.24,\n",
       "     0.64,\n",
       "     0.89,\n",
       "     0.47,\n",
       "     1.6],\n",
       "    [23.02,\n",
       "     30.61,\n",
       "     16.98,\n",
       "     32.92,\n",
       "     9.3,\n",
       "     17.14,\n",
       "     12.31,\n",
       "     21.88,\n",
       "     20.12,\n",
       "     13.61,\n",
       "     15.99,\n",
       "     25.25,\n",
       "     25.4,\n",
       "     13.66,\n",
       "     31.9,\n",
       "     19.76,\n",
       "     22.05,\n",
       "     39.22,\n",
       "     37.74,\n",
       "     16.16,\n",
       "     17.24,\n",
       "     29.14,\n",
       "     16.55],\n",
       "    [4.32,\n",
       "     6.34,\n",
       "     0,\n",
       "     0.35,\n",
       "     5.75,\n",
       "     1.04,\n",
       "     0.41,\n",
       "     0.08,\n",
       "     0,\n",
       "     0,\n",
       "     0,\n",
       "     0.2,\n",
       "     0.1,\n",
       "     0,\n",
       "     0.19,\n",
       "     0.17,\n",
       "     0.42,\n",
       "     0,\n",
       "     1.41,\n",
       "     0.13,\n",
       "     1.46,\n",
       "     0.14,\n",
       "     1.62],\n",
       "    [0.3,\n",
       "     0.23,\n",
       "     0.33,\n",
       "     0,\n",
       "     0,\n",
       "     0.12,\n",
       "     0.25,\n",
       "     0.35,\n",
       "     0,\n",
       "     0.26,\n",
       "     0.23,\n",
       "     0.43,\n",
       "     0.85,\n",
       "     0.27,\n",
       "     0.2,\n",
       "     0,\n",
       "     0,\n",
       "     0.35,\n",
       "     0.48,\n",
       "     0,\n",
       "     0.31,\n",
       "     0.91,\n",
       "     0.3]]}},\n",
       " '高钾': {'xlsx': '高钾玻璃化学成分.xlsx',\n",
       "  'row': 19,\n",
       "  'fenghua_col': 'R',\n",
       "  'list': ['B', 'D', 'E', 'F', 'G', 'H'],\n",
       "  'names': ['二氧化硅(SiO2)',\n",
       "   '氧化钾(K2O)',\n",
       "   '氧化钙(CaO)',\n",
       "   '氧化镁(MgO)',\n",
       "   '氧化铝(Al2O3)',\n",
       "   '氧化铁(Fe2O3)'],\n",
       "  'data': {'风化': [[92.63, 95.02, 96.77, 94.29, 92.35, 92.72],\n",
       "    [0, 0.59, 0.92, 1.01, 0.74, 0],\n",
       "    [1.07, 0.62, 0.21, 0.72, 1.66, 0.94],\n",
       "    [0, 0, 0, 0, 0.64, 0.54],\n",
       "    [1.98, 1.32, 0.81, 1.46, 3.5, 2.51],\n",
       "    [0.17, 0.32, 0.26, 0.29, 0.35, 0.2]],\n",
       "   '无风化': [[69.33,\n",
       "     87.05,\n",
       "     61.71,\n",
       "     65.88,\n",
       "     61.58,\n",
       "     67.65,\n",
       "     59.81,\n",
       "     59.01,\n",
       "     62.47,\n",
       "     65.18,\n",
       "     79.46,\n",
       "     76.68],\n",
       "    [9.99, 5.19, 12.37, 9.67, 10.95, 7.37, 7.68, 12.53, 12.28, 14.52, 9.42, 0],\n",
       "    [6.32, 2.01, 5.87, 7.12, 7.35, 0, 5.41, 8.7, 8.23, 8.27, 0, 4.71],\n",
       "    [0.87, 0, 1.11, 1.56, 1.77, 1.98, 1.73, 0, 0.66, 0.52, 1.53, 1.22],\n",
       "    [3.93, 4.06, 5.5, 6.44, 7.5, 11.15, 10.05, 6.16, 9.23, 6.18, 3.05, 6.19],\n",
       "    [1.74, 0, 2.16, 2.06, 2.62, 2.39, 6.04, 2.88, 0.5, 0.42, 0, 2.37]]}}}"
      ]
     },
     "execution_count": 103,
     "metadata": {},
     "output_type": "execute_result"
    }
   ],
   "source": [
    "for category in configs:\n",
    "    new_configs = configs[category]\n",
    "    vb = openpyxl.load_workbook(new_configs[\"xlsx\"])\n",
    "    sheet = vb[\"Sheet1\"]\n",
    "    n_row = new_configs[\"row\"]\n",
    "    for column_name in new_configs[\"list\"]:\n",
    "        # 分别记录风化和无风化两种数据\n",
    "        fenghua = []\n",
    "        unfenghua = []\n",
    "        new_configs[\"names\"].append(sheet[column_name + \"1\"].value)\n",
    "        fenghua_col = new_configs[\"fenghua_col\"]\n",
    "        for row in range(2, n_row+1):\n",
    "            if sheet[fenghua_col+str(row)].value == \"风化\":\n",
    "                fenghua.append(sheet[column_name + str(row)].value)\n",
    "            else:\n",
    "                unfenghua.append(sheet[column_name + str(row)].value)\n",
    "        \n",
    "        new_configs[\"data\"][\"风化\"].append(fenghua)\n",
    "        new_configs[\"data\"][\"无风化\"].append(unfenghua)\n",
    "\n",
    "configs"
   ]
  },
  {
   "cell_type": "markdown",
   "metadata": {},
   "source": [
    "画出所有风化敏感型变量分布的图像，包括符合正态分布的和不符合正态分布的"
   ]
  },
  {
   "cell_type": "code",
   "execution_count": 123,
   "metadata": {
    "scrolled": false
   },
   "outputs": [
    {
     "name": "stdout",
     "output_type": "stream",
     "text": [
      "铅钡 风化 二氧化硅(SiO2) p=0.66\n"
     ]
    },
    {
     "data": {
      "image/png": "[encoded data removed]",
      "text/plain": [
       "<Figure size 432x288 with 1 Axes>"
      ]
     },
     "metadata": {
      "needs_background": "light"
     },
     "output_type": "display_data"
    },
    {
     "name": "stdout",
     "output_type": "stream",
     "text": [
      "铅钡 风化 氧化钠(Na2O) p=0.00\n"
     ]
    },
    {
     "data": {
      "image/png": "[encoded data removed]",
      "text/plain": [
       "<Figure size 432x288 with 1 Axes>"
      ]
     },
     "metadata": {
      "needs_background": "light"
     },
     "output_type": "display_data"
    },
    {
     "name": "stdout",
     "output_type": "stream",
     "text": [
      "铅钡 风化 氧化钙(CaO) p=0.52\n"
     ]
    },
    {
     "data": {
      "image/png": "[encoded data removed]",
      "text/plain": [
       "<Figure size 432x288 with 1 Axes>"
      ]
     },
     "metadata": {
      "needs_background": "light"
     },
     "output_type": "display_data"
    },
    {
     "name": "stdout",
     "output_type": "stream",
     "text": [
      "铅钡 风化 氧化铅(PbO) p=0.96\n"
     ]
    },
    {
     "data": {
      "image/png": "[encoded data removed]",
      "text/plain": [
       "<Figure size 432x288 with 1 Axes>"
      ]
     },
     "metadata": {
      "needs_background": "light"
     },
     "output_type": "display_data"
    },
    {
     "name": "stdout",
     "output_type": "stream",
     "text": [
      "铅钡 风化 五氧化二磷(P2O5) p=0.11\n"
     ]
    },
    {
     "data": {
      "image/png": "[encoded data removed]",
      "text/plain": [
       "<Figure size 432x288 with 1 Axes>"
      ]
     },
     "metadata": {
      "needs_background": "light"
     },
     "output_type": "display_data"
    },
    {
     "name": "stdout",
     "output_type": "stream",
     "text": [
      "铅钡 风化 氧化锶(SrO) p=0.34\n"
     ]
    },
    {
     "data": {
      "image/png": "[encoded data removed]",
      "text/plain": [
       "<Figure size 432x288 with 1 Axes>"
      ]
     },
     "metadata": {
      "needs_background": "light"
     },
     "output_type": "display_data"
    },
    {
     "name": "stdout",
     "output_type": "stream",
     "text": [
      "铅钡 无风化 二氧化硅(SiO2) p=0.48\n"
     ]
    },
    {
     "data": {
      "image/png": "[encoded data removed]",
      "text/plain": [
       "<Figure size 432x288 with 1 Axes>"
      ]
     },
     "metadata": {
      "needs_background": "light"
     },
     "output_type": "display_data"
    },
    {
     "name": "stdout",
     "output_type": "stream",
     "text": [
      "铅钡 无风化 氧化钠(Na2O) p=0.00\n"
     ]
    },
    {
     "data": {
      "image/png": "[encoded data removed]",
      "text/plain": [
       "<Figure size 432x288 with 1 Axes>"
      ]
     },
     "metadata": {
      "needs_background": "light"
     },
     "output_type": "display_data"
    },
    {
     "name": "stdout",
     "output_type": "stream",
     "text": [
      "铅钡 无风化 氧化钙(CaO) p=0.00\n"
     ]
    },
    {
     "data": {
      "image/png": "[encoded data removed]",
      "text/plain": [
       "<Figure size 432x288 with 1 Axes>"
      ]
     },
     "metadata": {
      "needs_background": "light"
     },
     "output_type": "display_data"
    },
    {
     "name": "stdout",
     "output_type": "stream",
     "text": [
      "铅钡 无风化 氧化铅(PbO) p=0.22\n"
     ]
    },
    {
     "data": {
      "image/png": "[encoded data removed]",
      "text/plain": [
       "<Figure size 432x288 with 1 Axes>"
      ]
     },
     "metadata": {
      "needs_background": "light"
     },
     "output_type": "display_data"
    },
    {
     "name": "stdout",
     "output_type": "stream",
     "text": [
      "铅钡 无风化 五氧化二磷(P2O5) p=0.00\n"
     ]
    },
    {
     "data": {
      "image/png": "[encoded data removed]",
      "text/plain": [
       "<Figure size 432x288 with 1 Axes>"
      ]
     },
     "metadata": {
      "needs_background": "light"
     },
     "output_type": "display_data"
    },
    {
     "name": "stdout",
     "output_type": "stream",
     "text": [
      "铅钡 无风化 氧化锶(SrO) p=0.00\n"
     ]
    },
    {
     "data": {
      "image/png": "[encoded data removed]",
      "text/plain": [
       "<Figure size 432x288 with 1 Axes>"
      ]
     },
     "metadata": {
      "needs_background": "light"
     },
     "output_type": "display_data"
    },
    {
     "name": "stdout",
     "output_type": "stream",
     "text": [
      "高钾 风化 二氧化硅(SiO2) p=0.30\n"
     ]
    },
    {
     "data": {
      "image/png": "[encoded data removed]",
      "text/plain": [
       "<Figure size 432x288 with 1 Axes>"
      ]
     },
     "metadata": {
      "needs_background": "light"
     },
     "output_type": "display_data"
    },
    {
     "name": "stdout",
     "output_type": "stream",
     "text": [
      "高钾 风化 氧化钾(K2O) p=0.18\n"
     ]
    },
    {
     "data": {
      "image/png": "[encoded data removed]",
      "text/plain": [
       "<Figure size 432x288 with 1 Axes>"
      ]
     },
     "metadata": {
      "needs_background": "light"
     },
     "output_type": "display_data"
    },
    {
     "name": "stdout",
     "output_type": "stream",
     "text": [
      "高钾 风化 氧化钙(CaO) p=0.94\n"
     ]
    },
    {
     "data": {
      "image/png": "[encoded data removed]",
      "text/plain": [
       "<Figure size 432x288 with 1 Axes>"
      ]
     },
     "metadata": {
      "needs_background": "light"
     },
     "output_type": "display_data"
    },
    {
     "name": "stdout",
     "output_type": "stream",
     "text": [
      "高钾 风化 氧化镁(MgO) p=0.00\n"
     ]
    },
    {
     "data": {
      "image/png": "[encoded data removed]",
      "text/plain": [
       "<Figure size 432x288 with 1 Axes>"
      ]
     },
     "metadata": {
      "needs_background": "light"
     },
     "output_type": "display_data"
    },
    {
     "name": "stdout",
     "output_type": "stream",
     "text": [
      "高钾 风化 氧化铝(Al2O3) p=0.79\n"
     ]
    },
    {
     "data": {
      "image/png": "[encoded data removed]",
      "text/plain": [
       "<Figure size 432x288 with 1 Axes>"
      ]
     },
     "metadata": {
      "needs_background": "light"
     },
     "output_type": "display_data"
    },
    {
     "name": "stdout",
     "output_type": "stream",
     "text": [
      "高钾 风化 氧化铁(Fe2O3) p=0.80\n"
     ]
    },
    {
     "data": {
      "image/png": "[encoded data removed]",
      "text/plain": [
       "<Figure size 432x288 with 1 Axes>"
      ]
     },
     "metadata": {
      "needs_background": "light"
     },
     "output_type": "display_data"
    },
    {
     "name": "stdout",
     "output_type": "stream",
     "text": [
      "高钾 无风化 二氧化硅(SiO2) p=0.07\n"
     ]
    },
    {
     "data": {
      "image/png": "[encoded data removed]",
      "text/plain": [
       "<Figure size 432x288 with 1 Axes>"
      ]
     },
     "metadata": {
      "needs_background": "light"
     },
     "output_type": "display_data"
    },
    {
     "name": "stdout",
     "output_type": "stream",
     "text": [
      "高钾 无风化 氧化钾(K2O) p=0.25\n"
     ]
    },
    {
     "data": {
      "image/png": "[encoded data removed]",
      "text/plain": [
       "<Figure size 432x288 with 1 Axes>"
      ]
     },
     "metadata": {
      "needs_background": "light"
     },
     "output_type": "display_data"
    },
    {
     "name": "stdout",
     "output_type": "stream",
     "text": [
      "高钾 无风化 氧化钙(CaO) p=0.06\n"
     ]
    },
    {
     "data": {
      "image/png": "[encoded data removed]",
      "text/plain": [
       "<Figure size 432x288 with 1 Axes>"
      ]
     },
     "metadata": {
      "needs_background": "light"
     },
     "output_type": "display_data"
    },
    {
     "name": "stdout",
     "output_type": "stream",
     "text": [
      "高钾 无风化 氧化镁(MgO) p=0.39\n"
     ]
    },
    {
     "data": {
      "image/png": "[encoded data removed]",
      "text/plain": [
       "<Figure size 432x288 with 1 Axes>"
      ]
     },
     "metadata": {
      "needs_background": "light"
     },
     "output_type": "display_data"
    },
    {
     "name": "stdout",
     "output_type": "stream",
     "text": [
      "高钾 无风化 氧化铝(Al2O3) p=0.54\n"
     ]
    },
    {
     "data": {
      "image/png": "[encoded data removed]",
      "text/plain": [
       "<Figure size 432x288 with 1 Axes>"
      ]
     },
     "metadata": {
      "needs_background": "light"
     },
     "output_type": "display_data"
    },
    {
     "name": "stdout",
     "output_type": "stream",
     "text": [
      "高钾 无风化 氧化铁(Fe2O3) p=0.06\n"
     ]
    },
    {
     "data": {
      "image/png": "[encoded data removed]",
      "text/plain": [
       "<Figure size 432x288 with 1 Axes>"
      ]
     },
     "metadata": {
      "needs_background": "light"
     },
     "output_type": "display_data"
    }
   ],
   "source": [
    "targetMap = {}\n",
    "\n",
    "for boli_type in configs:\n",
    "    new_configs = configs[boli_type]\n",
    "    for fenghua in [\"风化\", \"无风化\"]:\n",
    "        for index in range(len(new_configs[\"list\"])):\n",
    "            component = new_configs[\"names\"][index]\n",
    "            volume = new_configs[\"data\"][fenghua][index]\n",
    "            \n",
    "            arr = np.array(volume)\n",
    "            pvalue = shapiro(arr).pvalue\n",
    "#             if pvalue < 0.05:\n",
    "#                 print(boli_type, fenghua, component)\n",
    "#                 print(\"非正态分布\", pvalue)\n",
    "#                 print(kstest(arr, cdf = \"norm\"))\n",
    "#             if pvalue > 0.05:\n",
    "            print(boli_type, fenghua, component, \"p=%.2f\" % pvalue)\n",
    "            plt.hist(arr)\n",
    "            plt.show()"
   ]
  },
  {
   "cell_type": "markdown",
   "metadata": {},
   "source": [
    "展示一些符合正态分布的化学成分"
   ]
  },
  {
   "cell_type": "code",
   "execution_count": 144,
   "metadata": {},
   "outputs": [
    {
     "name": "stdout",
     "output_type": "stream",
     "text": [
      "铅钡 二氧化硅(SiO2)\n",
      "铅钡 氧化钠(Na2O)\n",
      "铅钡 氧化钙(CaO)\n",
      "铅钡 氧化铅(PbO)\n",
      "铅钡 五氧化二磷(P2O5)\n",
      "铅钡 氧化锶(SrO)\n",
      "高钾 二氧化硅(SiO2)\n",
      "高钾 氧化钾(K2O)\n",
      "高钾 氧化钙(CaO)\n",
      "高钾 氧化镁(MgO)\n",
      "高钾 氧化铝(Al2O3)\n",
      "高钾 氧化铁(Fe2O3)\n"
     ]
    },
    {
     "data": {
      "text/plain": [
       "{'铅钡': {'二氧化硅(SiO2)': {'type': 'normal_dist',\n",
       "   '风化': {'mu': 24.912692307692307, 'sigma': 10.399526083023172},\n",
       "   '无风化': {'mu': 54.65956521739131, 'sigma': 11.568589210992982}},\n",
       "  '氧化钠(Na2O)': {'type': 'normal_dist',\n",
       "   '风化': {'mu': 0.21615384615384617, 'sigma': 0.5458379368039912},\n",
       "   '无风化': {'mu': 1.682608695652174, 'sigma': 2.3195056021025806}},\n",
       "  '氧化钙(CaO)': {'type': 'normal_dist',\n",
       "   '风化': {'mu': 2.6953846153846155, 'sigma': 1.6275470707342448},\n",
       "   '无风化': {'mu': 1.3204347826086955, 'sigma': 1.2564597547521803}},\n",
       "  '氧化铅(PbO)': {'type': 'normal_dist',\n",
       "   '风化': {'mu': 43.31384615384615, 'sigma': 11.992722176682848},\n",
       "   '无风化': {'mu': 22.084782608695654, 'sigma': 8.034572508075563}},\n",
       "  '五氧化二磷(P2O5)': {'type': 'normal_dist',\n",
       "   '风化': {'mu': 5.2773076923076925, 'sigma': 4.115203105271128},\n",
       "   '无风化': {'mu': 1.0491304347826087, 'sigma': 1.806456808334501}},\n",
       "  '氧化锶(SrO)': {'type': 'normal_dist',\n",
       "   '风化': {'mu': 0.4184615384615385, 'sigma': 0.2596994165997462},\n",
       "   '无风化': {'mu': 0.2682608695652174, 'sigma': 0.2381021369060846}}},\n",
       " '高钾': {'二氧化硅(SiO2)': {'type': 'normal_dist',\n",
       "   '风化': {'mu': 93.96333333333332, 'sigma': 1.5825682361978024},\n",
       "   '无风化': {'mu': 67.98416666666668, 'sigma': 8.38236885605071}},\n",
       "  '氧化钾(K2O)': {'type': 'normal_dist',\n",
       "   '风化': {'mu': 0.5433333333333333, 'sigma': 0.40639335077675126},\n",
       "   '无风化': {'mu': 9.330833333333333, 'sigma': 3.7534039180751946}},\n",
       "  '氧化钙(CaO)': {'type': 'normal_dist',\n",
       "   '风化': {'mu': 0.8700000000000001, 'sigma': 0.4452714527865745},\n",
       "   '无风化': {'mu': 5.3325000000000005, 'sigma': 2.960822309764637}},\n",
       "  '氧化镁(MgO)': {'type': 'normal_dist',\n",
       "   '风化': {'mu': 0.19666666666666668, 'sigma': 0.2796227617503427},\n",
       "   '无风化': {'mu': 1.0791666666666666, 'sigma': 0.6473594871132696}},\n",
       "  '氧化铝(Al2O3)': {'type': 'normal_dist',\n",
       "   '风化': {'mu': 1.93, 'sigma': 0.8804544281222054},\n",
       "   '无风化': {'mu': 6.619999999999998, 'sigma': 2.385438464238109}},\n",
       "  '氧化铁(Fe2O3)': {'type': 'normal_dist',\n",
       "   '风化': {'mu': 0.265, 'sigma': 0.06344288770224758},\n",
       "   '无风化': {'mu': 1.9316666666666669, 'sigma': 1.5957382478199724}}}}"
      ]
     },
     "execution_count": 144,
     "metadata": {},
     "output_type": "execute_result"
    }
   ],
   "source": [
    "expectMap = {\n",
    "    \"铅钡\": {},\n",
    "    \"高钾\": {}\n",
    "}\n",
    "\n",
    "for boli_type in configs:\n",
    "    new_configs = configs[boli_type]\n",
    "    for index in range(len(new_configs[\"list\"])):\n",
    "        component = new_configs[\"names\"][index]\n",
    "        pvalue = [0, 0]\n",
    "        mu = [0, 0]\n",
    "        sigma = [0, 0]\n",
    "        for i, fenghua in enumerate([\"风化\", \"无风化\"]):\n",
    "            volume = new_configs[\"data\"][fenghua][index]\n",
    "            \n",
    "#             print(boli_type, fenghua, component)\n",
    "#             print(volume)\n",
    "            arr = np.array(volume)\n",
    "            pvalue[i] = shapiro(arr).pvalue\n",
    "            mu[i] = arr.mean()\n",
    "            sigma[i] = arr.std()\n",
    "#             if pvalue[i] > 0.05:\n",
    "#                 print(boli_type, fenghua, component, \"mu = %f, sigma = %f\" % (mu, sigma))\n",
    "#                 print(\"正态分布\", pvalue[i])\n",
    "#                 print()\n",
    "        print(boli_type, component)\n",
    "        expectMap[boli_type][component] = {\n",
    "            \"type\": \"normal_dist\",\n",
    "            \"风化\": {\"mu\": mu[0], \"sigma\": sigma[0]},\n",
    "            \"无风化\": {\"mu\": mu[1], \"sigma\": sigma[1]},\n",
    "        }\n",
    "        \n",
    "expectMap"
   ]
  },
  {
   "cell_type": "markdown",
   "metadata": {},
   "source": [
    "筛选**无风化**且为同种工艺参数：类型，纹饰，颜色的玻璃制品,并记录 **平均值** \n",
    "\n",
    "平均值记录在 avgMap 中"
   ]
  },
  {
   "cell_type": "code",
   "execution_count": 184,
   "metadata": {},
   "outputs": [
    {
     "name": "stdout",
     "output_type": "stream",
     "text": [
      "{('铅钡', 'A', '黑'): {'二氧化硅(SiO2)': {'n': 2, 'avg': 49.815, 'lst': [54.61, 45.02]}, '氧化钠(Na2O)': {'n': 2, 'avg': 0.0, 'lst': [0, 0]}, '氧化钾(K2O)': {'n': 2, 'avg': 0.15, 'lst': [0.3, 0]}, '氧化钙(CaO)': {'n': 2, 'avg': 2.6, 'lst': [2.08, 3.12]}, '氧化镁(MgO)': {'n': 2, 'avg': 0.87, 'lst': [1.2, 0.54]}, '氧化铝(Al2O3)': {'n': 2, 'avg': 5.33, 'lst': [6.5, 4.16]}, '氧化铁(Fe2O3)': {'n': 2, 'avg': 0.635, 'lst': [1.27, 0]}, '氧化铜(CuO)': {'n': 2, 'avg': 0.575, 'lst': [0.45, 0.7]}, '氧化铅(PbO)': {'n': 2, 'avg': 26.814999999999998, 'lst': [23.02, 30.61]}, '氧化钡(BaO)': {'n': 2, 'avg': 5.205, 'lst': [4.19, 6.22]}, '五氧化二磷(P2O5)': {'n': 2, 'avg': 5.33, 'lst': [4.32, 6.34]}, '氧化锶(SrO)': {'n': 2, 'avg': 0.265, 'lst': [0.3, 0.23]}, '氧化锡(SnO2)': {'n': 2, 'avg': 0.0, 'lst': [0, 0]}, '二氧化硫(SO2)': {'n': 2, 'avg': 0.0, 'lst': [0, 0]}}, ('铅钡', 'A', '蓝绿'): {'二氧化硅(SiO2)': {'n': 1, 'avg': 53.79, 'lst': [53.79]}, '氧化钠(Na2O)': {'n': 1, 'avg': 7.92, 'lst': [7.92]}, '氧化钾(K2O)': {'n': 1, 'avg': 0.0, 'lst': [0]}, '氧化钙(CaO)': {'n': 1, 'avg': 0.5, 'lst': [0.5]}, '氧化镁(MgO)': {'n': 1, 'avg': 0.71, 'lst': [0.71]}, '氧化铝(Al2O3)': {'n': 1, 'avg': 1.42, 'lst': [1.42]}, '氧化铁(Fe2O3)': {'n': 1, 'avg': 0.0, 'lst': [0]}, '氧化铜(CuO)': {'n': 1, 'avg': 2.99, 'lst': [2.99]}, '氧化铅(PbO)': {'n': 1, 'avg': 16.98, 'lst': [16.98]}, '氧化钡(BaO)': {'n': 1, 'avg': 11.86, 'lst': [11.86]}, '五氧化二磷(P2O5)': {'n': 1, 'avg': 0.0, 'lst': [0]}, '氧化锶(SrO)': {'n': 1, 'avg': 0.33, 'lst': [0.33]}, '氧化锡(SnO2)': {'n': 1, 'avg': 0.0, 'lst': [0]}, '二氧化硫(SO2)': {'n': 1, 'avg': 0.0, 'lst': [0]}}, ('铅钡', 'C', '绿'): {'二氧化硅(SiO2)': {'n': 1, 'avg': 49.01, 'lst': [49.01]}, '氧化钠(Na2O)': {'n': 1, 'avg': 2.71, 'lst': [2.71]}, '氧化钾(K2O)': {'n': 1, 'avg': 0.0, 'lst': [0]}, '氧化钙(CaO)': {'n': 1, 'avg': 1.13, 'lst': [1.13]}, '氧化镁(MgO)': {'n': 1, 'avg': 0.0, 'lst': [0]}, '氧化铝(Al2O3)': {'n': 1, 'avg': 1.45, 'lst': [1.45]}, '氧化铁(Fe2O3)': {'n': 1, 'avg': 0.0, 'lst': [0]}, '氧化铜(CuO)': {'n': 1, 'avg': 0.86, 'lst': [0.86]}, '氧化铅(PbO)': {'n': 1, 'avg': 32.92, 'lst': [32.92]}, '氧化钡(BaO)': {'n': 1, 'avg': 7.95, 'lst': [7.95]}, '五氧化二磷(P2O5)': {'n': 1, 'avg': 0.35, 'lst': [0.35]}, '氧化锶(SrO)': {'n': 1, 'avg': 0.0, 'lst': [0]}, '氧化锡(SnO2)': {'n': 1, 'avg': 0.0, 'lst': [0]}, '二氧化硫(SO2)': {'n': 1, 'avg': 0.0, 'lst': [0]}}, ('铅钡', 'A', '浅蓝'): {'二氧化硅(SiO2)': {'n': 10, 'avg': 56.376, 'lst': [37.36, 68.08, 63.3, 51.26, 51.33, 60.74, 61.28, 55.21, 51.54, 63.66]}, '氧化钠(Na2O)': {'n': 10, 'avg': 2.576, 'lst': [0, 0, 0.92, 5.74, 5.68, 3.06, 2.66, 0, 4.66, 3.04]}, '氧化钾(K2O)': {'n': 10, 'avg': 0.273, 'lst': [0.71, 0.26, 0.3, 0.15, 0.35, 0.2, 0.11, 0.25, 0.29, 0.11]}, '氧化钙(CaO)': {'n': 10, 'avg': 0.9739999999999999, 'lst': [0, 1.34, 2.98, 0.79, 0, 2.14, 0.84, 0, 0.87, 0.78]}, '氧化镁(MgO)': {'n': 10, 'avg': 0.89, 'lst': [0, 1, 1.49, 1.09, 1.16, 0, 0.74, 1.67, 0.61, 1.14]}, '氧化铝(Al2O3)': {'n': 10, 'avg': 6.5280000000000005, 'lst': [5.45, 4.7, 14.34, 3.53, 5.66, 12.69, 5, 4.79, 3.06, 6.06]}, '氧化铁(Fe2O3)': {'n': 10, 'avg': 0.35, 'lst': [1.51, 0.41, 0.81, 0, 0, 0.77, 0, 0, 0, 0]}, '氧化铜(CuO)': {'n': 10, 'avg': 1.416, 'lst': [4.78, 0.33, 0.74, 2.67, 2.72, 0.43, 0.53, 0.77, 0.65, 0.54]}, '氧化铅(PbO)': {'n': 10, 'avg': 17.466, 'lst': [9.3, 17.14, 12.31, 21.88, 20.12, 13.61, 15.99, 25.25, 25.4, 13.66]}, '氧化钡(BaO)': {'n': 10, 'avg': 9.543000000000001, 'lst': [23.55, 4.04, 2.03, 10.47, 10.88, 5.22, 10.96, 10.06, 9.23, 8.99]}, '五氧化二磷(P2O5)': {'n': 10, 'avg': 0.758, 'lst': [5.75, 1.04, 0.41, 0.08, 0, 0, 0, 0.2, 0.1, 0]}, '氧化锶(SrO)': {'n': 10, 'avg': 0.27599999999999997, 'lst': [0, 0.12, 0.25, 0.35, 0, 0.26, 0.23, 0.43, 0.85, 0.27]}, '氧化锡(SnO2)': {'n': 10, 'avg': 0.023, 'lst': [0, 0.23, 0, 0, 0, 0, 0, 0, 0, 0]}, '二氧化硫(SO2)': {'n': 10, 'avg': 0.0, 'lst': [0, 0, 0, 0, 0, 0, 0, 0, 0, 0]}}, ('铅钡', 'C', '浅蓝'): {'二氧化硅(SiO2)': {'n': 1, 'avg': 50.61, 'lst': [50.61]}, '氧化钠(Na2O)': {'n': 1, 'avg': 2.31, 'lst': [2.31]}, '氧化钾(K2O)': {'n': 1, 'avg': 0.0, 'lst': [0]}, '氧化钙(CaO)': {'n': 1, 'avg': 0.63, 'lst': [0.63]}, '氧化镁(MgO)': {'n': 1, 'avg': 0.0, 'lst': [0]}, '氧化铝(Al2O3)': {'n': 1, 'avg': 1.9, 'lst': [1.9]}, '氧化铁(Fe2O3)': {'n': 1, 'avg': 1.55, 'lst': [1.55]}, '氧化铜(CuO)': {'n': 1, 'avg': 1.12, 'lst': [1.12]}, '氧化铅(PbO)': {'n': 1, 'avg': 31.9, 'lst': [31.9]}, '氧化钡(BaO)': {'n': 1, 'avg': 6.65, 'lst': [6.65]}, '五氧化二磷(P2O5)': {'n': 1, 'avg': 0.19, 'lst': [0.19]}, '氧化锶(SrO)': {'n': 1, 'avg': 0.2, 'lst': [0.2]}, '氧化锡(SnO2)': {'n': 1, 'avg': 0.0, 'lst': [0]}, '二氧化硫(SO2)': {'n': 1, 'avg': 0.0, 'lst': [0]}}, ('铅钡', 'C', '浅绿'): {'二氧化硅(SiO2)': {'n': 2, 'avg': 67.81, 'lst': [69.71, 65.91]}, '氧化钠(Na2O)': {'n': 2, 'avg': 0.0, 'lst': [0, 0]}, '氧化钾(K2O)': {'n': 2, 'avg': 0.105, 'lst': [0.21, 0]}, '氧化钙(CaO)': {'n': 2, 'avg': 0.42000000000000004, 'lst': [0.46, 0.38]}, '氧化镁(MgO)': {'n': 2, 'avg': 0.0, 'lst': [0, 0]}, '氧化铝(Al2O3)': {'n': 2, 'avg': 1.9, 'lst': [2.36, 1.44]}, '氧化铁(Fe2O3)': {'n': 2, 'avg': 0.585, 'lst': [1, 0.17]}, '氧化铜(CuO)': {'n': 2, 'avg': 0.135, 'lst': [0.11, 0.16]}, '氧化铅(PbO)': {'n': 2, 'avg': 20.905, 'lst': [19.76, 22.05]}, '氧化钡(BaO)': {'n': 2, 'avg': 5.279999999999999, 'lst': [4.88, 5.68]}, '五氧化二磷(P2O5)': {'n': 2, 'avg': 0.295, 'lst': [0.17, 0.42]}, '氧化锶(SrO)': {'n': 2, 'avg': 0.0, 'lst': [0, 0]}, '氧化锡(SnO2)': {'n': 2, 'avg': 0.0, 'lst': [0, 0]}, '二氧化硫(SO2)': {'n': 2, 'avg': 0.0, 'lst': [0, 0]}}, ('铅钡', 'A', '深蓝'): {'二氧化硅(SiO2)': {'n': 2, 'avg': 35.635000000000005, 'lst': [34.34, 36.93]}, '氧化钠(Na2O)': {'n': 2, 'avg': 0.0, 'lst': [0, 0]}, '氧化钾(K2O)': {'n': 2, 'avg': 0.705, 'lst': [1.41, 0]}, '氧化钙(CaO)': {'n': 2, 'avg': 4.365, 'lst': [4.49, 4.24]}, '氧化镁(MgO)': {'n': 2, 'avg': 0.745, 'lst': [0.98, 0.51]}, '氧化铝(Al2O3)': {'n': 2, 'avg': 4.1049999999999995, 'lst': [4.35, 3.86]}, '氧化铁(Fe2O3)': {'n': 2, 'avg': 2.43, 'lst': [2.12, 2.74]}, '氧化铜(CuO)': {'n': 2, 'avg': 0.0, 'lst': [0, 0]}, '氧化铅(PbO)': {'n': 2, 'avg': 38.480000000000004, 'lst': [39.22, 37.74]}, '氧化钡(BaO)': {'n': 2, 'avg': 10.32, 'lst': [10.29, 10.35]}, '五氧化二磷(P2O5)': {'n': 2, 'avg': 0.705, 'lst': [0, 1.41]}, '氧化锶(SrO)': {'n': 2, 'avg': 0.415, 'lst': [0.35, 0.48]}, '氧化锡(SnO2)': {'n': 2, 'avg': 0.42000000000000004, 'lst': [0.4, 0.44]}, '二氧化硫(SO2)': {'n': 2, 'avg': 0.0, 'lst': [0, 0]}}, ('铅钡', 'C', '深绿'): {'二氧化硅(SiO2)': {'n': 2, 'avg': 67.815, 'lst': [75.51, 60.12]}, '氧化钠(Na2O)': {'n': 2, 'avg': 0.0, 'lst': [0, 0]}, '氧化钾(K2O)': {'n': 2, 'avg': 0.19, 'lst': [0.15, 0.23]}, '氧化钙(CaO)': {'n': 2, 'avg': 0.765, 'lst': [0.64, 0.89]}, '氧化镁(MgO)': {'n': 2, 'avg': 0.5, 'lst': [1, 0]}, '氧化铝(Al2O3)': {'n': 2, 'avg': 2.535, 'lst': [2.35, 2.72]}, '氧化铁(Fe2O3)': {'n': 2, 'avg': 0.0, 'lst': [0, 0]}, '氧化铜(CuO)': {'n': 2, 'avg': 1.7399999999999998, 'lst': [0.47, 3.01]}, '氧化铅(PbO)': {'n': 2, 'avg': 16.7, 'lst': [16.16, 17.24]}, '氧化钡(BaO)': {'n': 2, 'avg': 6.945, 'lst': [3.55, 10.34]}, '五氧化二磷(P2O5)': {'n': 2, 'avg': 0.7949999999999999, 'lst': [0.13, 1.46]}, '氧化锶(SrO)': {'n': 2, 'avg': 0.155, 'lst': [0, 0.31]}, '氧化锡(SnO2)': {'n': 2, 'avg': 0.0, 'lst': [0, 0]}, '二氧化硫(SO2)': {'n': 2, 'avg': 1.83, 'lst': [0, 3.66]}}, ('铅钡', 'C', '紫'): {'二氧化硅(SiO2)': {'n': 2, 'avg': 48.925, 'lst': [31.94, 65.91]}, '氧化钠(Na2O)': {'n': 2, 'avg': 0.0, 'lst': [0, 0]}, '氧化钾(K2O)': {'n': 2, 'avg': 0.0, 'lst': [0, 0]}, '氧化钙(CaO)': {'n': 2, 'avg': 1.0350000000000001, 'lst': [0.47, 1.6]}, '氧化镁(MgO)': {'n': 2, 'avg': 0.445, 'lst': [0, 0.89]}, '氧化铝(Al2O3)': {'n': 2, 'avg': 2.35, 'lst': [1.59, 3.11]}, '氧化铁(Fe2O3)': {'n': 2, 'avg': 2.295, 'lst': [0, 4.59]}, '氧化铜(CuO)': {'n': 2, 'avg': 4.45, 'lst': [8.46, 0.44]}, '氧化铅(PbO)': {'n': 2, 'avg': 22.845, 'lst': [29.14, 16.55]}, '氧化钡(BaO)': {'n': 2, 'avg': 14.825, 'lst': [26.23, 3.42]}, '五氧化二磷(P2O5)': {'n': 2, 'avg': 0.8800000000000001, 'lst': [0.14, 1.62]}, '氧化锶(SrO)': {'n': 2, 'avg': 0.605, 'lst': [0.91, 0.3]}, '氧化锡(SnO2)': {'n': 2, 'avg': 0.0, 'lst': [0, 0]}, '二氧化硫(SO2)': {'n': 2, 'avg': 0.0, 'lst': [0, 0]}}, ('高钾', 'A', '蓝绿'): {'二氧化硅(SiO2)': {'n': 7, 'avg': 68.62285714285714, 'lst': [87.05, 61.71, 65.88, 61.58, 67.65, 59.81, 76.68]}, '氧化钠(Na2O)': {'n': 7, 'avg': 0.0, 'lst': [0, 0, 0, 0, 0, 0, 0]}, '氧化钾(K2O)': {'n': 7, 'avg': 7.604285714285713, 'lst': [5.19, 12.37, 9.67, 10.95, 7.37, 7.68, 0]}, '氧化钙(CaO)': {'n': 7, 'avg': 4.638571428571429, 'lst': [2.01, 5.87, 7.12, 7.35, 0, 5.41, 4.71]}, '氧化镁(MgO)': {'n': 7, 'avg': 1.3385714285714287, 'lst': [0, 1.11, 1.56, 1.77, 1.98, 1.73, 1.22]}, '氧化铝(Al2O3)': {'n': 7, 'avg': 7.2700000000000005, 'lst': [4.06, 5.5, 6.44, 7.5, 11.15, 10.05, 6.19]}, '氧化铁(Fe2O3)': {'n': 7, 'avg': 2.52, 'lst': [0, 2.16, 2.06, 2.62, 2.39, 6.04, 2.37]}, '氧化铜(CuO)': {'n': 7, 'avg': 2.7557142857142862, 'lst': [0.78, 5.09, 2.18, 3.27, 2.51, 2.18, 3.28]}, '氧化铅(PbO)': {'n': 7, 'avg': 0.4585714285714286, 'lst': [0.25, 1.41, 0, 0, 0.2, 0.35, 1]}, '氧化钡(BaO)': {'n': 7, 'avg': 1.0257142857142856, 'lst': [0, 2.86, 0, 0, 1.38, 0.97, 1.97]}, '五氧化二磷(P2O5)': {'n': 7, 'avg': 1.8385714285714285, 'lst': [0.66, 0.7, 0.79, 0.94, 4.18, 4.5, 1.1]}, '氧化锶(SrO)': {'n': 7, 'avg': 0.055714285714285716, 'lst': [0, 0.1, 0, 0.06, 0.11, 0.12, 0]}, '氧化锡(SnO2)': {'n': 7, 'avg': 0.0, 'lst': [0, 0, 0, 0, 0, 0, 0]}, '二氧化硫(SO2)': {'n': 7, 'avg': 0.11857142857142856, 'lst': [0, 0, 0.36, 0.47, 0, 0, 0]}}, ('高钾', 'C', '蓝绿'): {'二氧化硅(SiO2)': {'n': 1, 'avg': 69.33, 'lst': [69.33]}, '氧化钠(Na2O)': {'n': 1, 'avg': 0.0, 'lst': [0]}, '氧化钾(K2O)': {'n': 1, 'avg': 9.99, 'lst': [9.99]}, '氧化钙(CaO)': {'n': 1, 'avg': 6.32, 'lst': [6.32]}, '氧化镁(MgO)': {'n': 1, 'avg': 0.87, 'lst': [0.87]}, '氧化铝(Al2O3)': {'n': 1, 'avg': 3.93, 'lst': [3.93]}, '氧化铁(Fe2O3)': {'n': 1, 'avg': 1.74, 'lst': [1.74]}, '氧化铜(CuO)': {'n': 1, 'avg': 3.87, 'lst': [3.87]}, '氧化铅(PbO)': {'n': 1, 'avg': 0.0, 'lst': [0]}, '氧化钡(BaO)': {'n': 1, 'avg': 0.0, 'lst': [0]}, '五氧化二磷(P2O5)': {'n': 1, 'avg': 1.17, 'lst': [1.17]}, '氧化锶(SrO)': {'n': 1, 'avg': 0.0, 'lst': [0]}, '氧化锡(SnO2)': {'n': 1, 'avg': 0.0, 'lst': [0]}, '二氧化硫(SO2)': {'n': 1, 'avg': 0.39, 'lst': [0.39]}}, ('高钾', 'C', '浅蓝'): {'二氧化硅(SiO2)': {'n': 2, 'avg': 62.095, 'lst': [59.01, 65.18]}, '氧化钠(Na2O)': {'n': 2, 'avg': 2.48, 'lst': [2.86, 2.1]}, '氧化钾(K2O)': {'n': 2, 'avg': 13.524999999999999, 'lst': [12.53, 14.52]}, '氧化钙(CaO)': {'n': 2, 'avg': 8.485, 'lst': [8.7, 8.27]}, '氧化镁(MgO)': {'n': 2, 'avg': 0.26, 'lst': [0, 0.52]}, '氧化铝(Al2O3)': {'n': 2, 'avg': 6.17, 'lst': [6.16, 6.18]}, '氧化铁(Fe2O3)': {'n': 2, 'avg': 1.65, 'lst': [2.88, 0.42]}, '氧化铜(CuO)': {'n': 2, 'avg': 2.9000000000000004, 'lst': [4.73, 1.07]}, '氧化铅(PbO)': {'n': 2, 'avg': 0.055, 'lst': [0, 0.11]}, '氧化钡(BaO)': {'n': 2, 'avg': 0.0, 'lst': [0, 0]}, '五氧化二磷(P2O5)': {'n': 2, 'avg': 0.635, 'lst': [1.27, 0]}, '氧化锶(SrO)': {'n': 2, 'avg': 0.02, 'lst': [0, 0.04]}, '氧化锡(SnO2)': {'n': 2, 'avg': 0.0, 'lst': [0, 0]}, '二氧化硫(SO2)': {'n': 2, 'avg': 0.0, 'lst': [0, 0]}}, ('高钾', 'A', '深蓝'): {'二氧化硅(SiO2)': {'n': 1, 'avg': 79.46, 'lst': [79.46]}, '氧化钠(Na2O)': {'n': 1, 'avg': 0.0, 'lst': [0]}, '氧化钾(K2O)': {'n': 1, 'avg': 9.42, 'lst': [9.42]}, '氧化钙(CaO)': {'n': 1, 'avg': 0.0, 'lst': [0]}, '氧化镁(MgO)': {'n': 1, 'avg': 1.53, 'lst': [1.53]}, '氧化铝(Al2O3)': {'n': 1, 'avg': 3.05, 'lst': [3.05]}, '氧化铁(Fe2O3)': {'n': 1, 'avg': 0.0, 'lst': [0]}, '氧化铜(CuO)': {'n': 1, 'avg': 0.0, 'lst': [0]}, '氧化铅(PbO)': {'n': 1, 'avg': 0.0, 'lst': [0]}, '氧化钡(BaO)': {'n': 1, 'avg': 0.0, 'lst': [0]}, '五氧化二磷(P2O5)': {'n': 1, 'avg': 1.36, 'lst': [1.36]}, '氧化锶(SrO)': {'n': 1, 'avg': 0.07, 'lst': [0.07]}, '氧化锡(SnO2)': {'n': 1, 'avg': 2.36, 'lst': [2.36]}, '二氧化硫(SO2)': {'n': 1, 'avg': 0.0, 'lst': [0]}}}\n",
      "['二氧化硅(SiO2)', '氧化钠(Na2O)', '氧化钾(K2O)', '氧化钙(CaO)', '氧化镁(MgO)', '氧化铝(Al2O3)', '氧化铁(Fe2O3)', '氧化铜(CuO)', '氧化铅(PbO)', '氧化钡(BaO)', '五氧化二磷(P2O5)', '氧化锶(SrO)', '氧化锡(SnO2)', '二氧化硫(SO2)']\n"
     ]
    }
   ],
   "source": [
    "# (type, wenshi, color)\n",
    "avgMap = {}\n",
    "\n",
    "# 读取文件\n",
    "vb = openpyxl.load_workbook(\"C位置标注版.xlsx\")\n",
    "sheet = vb[\"表单2\"]\n",
    "\n",
    "# 遍历每一行\n",
    "for row in range(2, 68):\n",
    "    # 去掉无风化的样本\n",
    "    if sheet[\"T\"+str(row)].value != \"无风化\": continue\n",
    "    \n",
    "    # 获取类型、纹饰、颜色\n",
    "    type_ = sheet[\"R\"+str(row)].value\n",
    "    wenshi = sheet[\"Q\"+str(row)].value\n",
    "    color = sheet[\"S\"+str(row)].value\n",
    "    key = (type_, wenshi, color)\n",
    "    \n",
    "    # 在avgMap中创建一个表项用于记录 所属的工艺参数\n",
    "    if key not in avgMap:\n",
    "        avgMap[key] = {}\n",
    "        \n",
    "        # 在每个表项里建立化学成分的新表项\n",
    "        for i in range(ord(\"B\"), ord(\"O\")+1):\n",
    "            col = chr(i)\n",
    "            component = sheet[col+\"1\"].value\n",
    "            avgMap[key][component] = {\n",
    "                \"sum\": 0,\n",
    "                \"n\": 0,\n",
    "                \"avg\": 0,\n",
    "                \"lst\": [],\n",
    "            }\n",
    "    \n",
    "    # 遍历所有化学成分\n",
    "    for i in range(ord(\"B\"), ord(\"O\")+1):\n",
    "        col = chr(i)\n",
    "        component = sheet[col+\"1\"].value\n",
    "        value = sheet[col+str(row)].value\n",
    "        \n",
    "        avgMap[key][component][\"lst\"].append(value)\n",
    "        avgMap[key][component][\"sum\"] += value\n",
    "        avgMap[key][component][\"n\"] += 1\n",
    "        \n",
    "for key in avgMap:\n",
    "    for component in avgMap[key]:\n",
    "        avgMap[key][component][\"avg\"] = avgMap[key][component][\"sum\"] \n",
    "            / avgMap[key][component][\"n\"]\n",
    "        del avgMap[key][component][\"sum\"]\n",
    "\n",
    "component_names = []\n",
    "for i in range(ord(\"B\"), ord(\"O\")+1):\n",
    "    col = chr(i)\n",
    "    component = sheet[col+\"1\"].value\n",
    "    component_names.append(component)\n",
    "        \n",
    "print(avgMap)\n",
    "print(component_names)"
   ]
  },
  {
   "cell_type": "code",
   "execution_count": 185,
   "metadata": {},
   "outputs": [
    {
     "data": {
      "text/plain": [
       "{'二氧化硅(SiO2)': {'n': 7,\n",
       "  'avg': 68.62285714285714,\n",
       "  'lst': [87.05, 61.71, 65.88, 61.58, 67.65, 59.81, 76.68]},\n",
       " '氧化钠(Na2O)': {'n': 7, 'avg': 0.0, 'lst': [0, 0, 0, 0, 0, 0, 0]},\n",
       " '氧化钾(K2O)': {'n': 7,\n",
       "  'avg': 7.604285714285713,\n",
       "  'lst': [5.19, 12.37, 9.67, 10.95, 7.37, 7.68, 0]},\n",
       " '氧化钙(CaO)': {'n': 7,\n",
       "  'avg': 4.638571428571429,\n",
       "  'lst': [2.01, 5.87, 7.12, 7.35, 0, 5.41, 4.71]},\n",
       " '氧化镁(MgO)': {'n': 7,\n",
       "  'avg': 1.3385714285714287,\n",
       "  'lst': [0, 1.11, 1.56, 1.77, 1.98, 1.73, 1.22]},\n",
       " '氧化铝(Al2O3)': {'n': 7,\n",
       "  'avg': 7.2700000000000005,\n",
       "  'lst': [4.06, 5.5, 6.44, 7.5, 11.15, 10.05, 6.19]},\n",
       " '氧化铁(Fe2O3)': {'n': 7,\n",
       "  'avg': 2.52,\n",
       "  'lst': [0, 2.16, 2.06, 2.62, 2.39, 6.04, 2.37]},\n",
       " '氧化铜(CuO)': {'n': 7,\n",
       "  'avg': 2.7557142857142862,\n",
       "  'lst': [0.78, 5.09, 2.18, 3.27, 2.51, 2.18, 3.28]},\n",
       " '氧化铅(PbO)': {'n': 7,\n",
       "  'avg': 0.4585714285714286,\n",
       "  'lst': [0.25, 1.41, 0, 0, 0.2, 0.35, 1]},\n",
       " '氧化钡(BaO)': {'n': 7,\n",
       "  'avg': 1.0257142857142856,\n",
       "  'lst': [0, 2.86, 0, 0, 1.38, 0.97, 1.97]},\n",
       " '五氧化二磷(P2O5)': {'n': 7,\n",
       "  'avg': 1.8385714285714285,\n",
       "  'lst': [0.66, 0.7, 0.79, 0.94, 4.18, 4.5, 1.1]},\n",
       " '氧化锶(SrO)': {'n': 7,\n",
       "  'avg': 0.055714285714285716,\n",
       "  'lst': [0, 0.1, 0, 0.06, 0.11, 0.12, 0]},\n",
       " '氧化锡(SnO2)': {'n': 7, 'avg': 0.0, 'lst': [0, 0, 0, 0, 0, 0, 0]},\n",
       " '二氧化硫(SO2)': {'n': 7,\n",
       "  'avg': 0.11857142857142856,\n",
       "  'lst': [0, 0, 0.36, 0.47, 0, 0, 0]}}"
      ]
     },
     "execution_count": 185,
     "metadata": {},
     "output_type": "execute_result"
    }
   ],
   "source": [
    "avgMap[(\"高钾\", \"A\", \"蓝绿\")]"
   ]
  },
  {
   "cell_type": "code",
   "execution_count": 204,
   "metadata": {
    "scrolled": true
   },
   "outputs": [
    {
     "name": "stdout",
     "output_type": "stream",
     "text": [
      "apply multi average ('铅钡', 'C', '蓝绿')\n",
      "apply multi average ('铅钡', 'C', '蓝绿')\n",
      "apply multi average ('铅钡', 'C', '蓝绿')\n",
      "apply multi average ('铅钡', 'C', '蓝绿')\n",
      "apply multi average ('铅钡', 'C', '蓝绿')\n",
      "apply multi average ('铅钡', 'C', '蓝绿')\n",
      "apply multi average ('铅钡', 'C', '蓝绿')\n",
      "apply multi average ('铅钡', 'C', '蓝绿')\n",
      "apply multi average ('铅钡', 'C', '蓝绿')\n",
      "apply multi average ('铅钡', 'C', '蓝绿')\n",
      "apply multi average ('铅钡', 'C', '蓝绿')\n",
      "apply multi average ('铅钡', 'C', '蓝绿')\n",
      "apply multi average ('铅钡', 'C', '蓝绿')\n",
      "apply multi average ('铅钡', 'C', '蓝绿')\n",
      "apply multi average ('铅钡', 'C', '蓝绿')\n",
      "apply multi average ('铅钡', 'C', '蓝绿')\n",
      "apply multi average ('铅钡', 'A', None)\n",
      "apply multi average ('铅钡', 'A', None)\n",
      "apply multi average ('铅钡', 'A', None)\n",
      "apply multi average ('铅钡', 'A', None)\n",
      "apply multi average ('铅钡', 'A', None)\n",
      "apply multi average ('铅钡', 'A', None)\n",
      "apply multi average ('铅钡', 'A', None)\n",
      "apply multi average ('铅钡', 'A', None)\n",
      "apply multi average ('铅钡', 'A', None)\n",
      "apply multi average ('铅钡', 'A', None)\n",
      "apply multi average ('铅钡', 'A', None)\n",
      "apply multi average ('铅钡', 'A', None)\n",
      "apply multi average ('铅钡', 'A', None)\n",
      "apply multi average ('铅钡', 'A', None)\n",
      "apply multi average ('铅钡', 'A', None)\n",
      "apply multi average ('铅钡', 'A', None)\n",
      "apply multi average ('铅钡', 'C', None)\n",
      "apply multi average ('铅钡', 'C', None)\n",
      "apply multi average ('铅钡', 'C', None)\n",
      "apply multi average ('铅钡', 'C', None)\n",
      "apply multi average ('铅钡', 'C', None)\n",
      "apply multi average ('铅钡', 'C', None)\n",
      "apply multi average ('铅钡', 'C', None)\n",
      "apply multi average ('铅钡', 'C', None)\n",
      "apply multi average ('铅钡', 'C', None)\n",
      "apply multi average ('铅钡', 'C', None)\n",
      "apply multi average ('铅钡', 'C', None)\n",
      "apply multi average ('铅钡', 'C', None)\n",
      "apply multi average ('铅钡', 'C', None)\n",
      "apply multi average ('铅钡', 'C', None)\n",
      "apply multi average ('铅钡', 'C', None)\n",
      "apply multi average ('铅钡', 'C', None)\n",
      "apply multi average ('高钾', 'B', '蓝绿')\n",
      "apply multi average ('高钾', 'B', '蓝绿')\n",
      "apply multi average ('高钾', 'B', '蓝绿')\n",
      "apply multi average ('高钾', 'B', '蓝绿')\n",
      "apply multi average ('高钾', 'B', '蓝绿')\n",
      "apply multi average ('高钾', 'B', '蓝绿')\n",
      "apply multi average ('高钾', 'B', '蓝绿')\n",
      "apply multi average ('高钾', 'B', '蓝绿')\n",
      "apply multi average ('高钾', 'B', '蓝绿')\n",
      "apply multi average ('高钾', 'B', '蓝绿')\n",
      "apply multi average ('高钾', 'B', '蓝绿')\n",
      "apply multi average ('高钾', 'B', '蓝绿')\n",
      "apply multi average ('高钾', 'B', '蓝绿')\n",
      "apply multi average ('高钾', 'B', '蓝绿')\n",
      "apply multi average ('高钾', 'B', '蓝绿')\n",
      "apply multi average ('高钾', 'B', '蓝绿')\n",
      "apply multi average ('高钾', 'B', '蓝绿')\n",
      "apply multi average ('高钾', 'B', '蓝绿')\n",
      "apply multi average ('高钾', 'B', '蓝绿')\n",
      "apply multi average ('高钾', 'B', '蓝绿')\n",
      "apply multi average ('高钾', 'B', '蓝绿')\n",
      "apply multi average ('高钾', 'B', '蓝绿')\n",
      "apply multi average ('高钾', 'B', '蓝绿')\n",
      "apply multi average ('高钾', 'B', '蓝绿')\n",
      "apply multi average ('高钾', 'B', '蓝绿')\n",
      "apply multi average ('高钾', 'B', '蓝绿')\n",
      "apply multi average ('高钾', 'B', '蓝绿')\n",
      "apply multi average ('高钾', 'B', '蓝绿')\n",
      "apply multi average ('高钾', 'B', '蓝绿')\n",
      "apply multi average ('高钾', 'B', '蓝绿')\n",
      "apply multi average ('高钾', 'B', '蓝绿')\n",
      "apply multi average ('高钾', 'B', '蓝绿')\n",
      "apply multi average ('高钾', 'B', '蓝绿')\n",
      "apply multi average ('高钾', 'B', '蓝绿')\n",
      "apply multi average ('高钾', 'B', '蓝绿')\n",
      "apply multi average ('高钾', 'B', '蓝绿')\n",
      "apply multi average ('高钾', 'B', '蓝绿')\n",
      "apply multi average ('高钾', 'B', '蓝绿')\n",
      "apply multi average ('高钾', 'B', '蓝绿')\n",
      "apply multi average ('高钾', 'B', '蓝绿')\n",
      "apply multi average ('高钾', 'B', '蓝绿')\n",
      "apply multi average ('高钾', 'B', '蓝绿')\n",
      "apply multi average ('高钾', 'B', '蓝绿')\n",
      "apply multi average ('高钾', 'B', '蓝绿')\n",
      "apply multi average ('高钾', 'B', '蓝绿')\n",
      "apply multi average ('高钾', 'B', '蓝绿')\n",
      "apply multi average ('高钾', 'B', '蓝绿')\n",
      "apply multi average ('高钾', 'B', '蓝绿')\n",
      "已写入文件\n"
     ]
    }
   ],
   "source": [
    "wb = openpyxl.Workbook()\n",
    "wb.remove(wb[\"Sheet\"])\n",
    "w_sheet = wb.create_sheet(title=\"风化前预测值\")\n",
    "\n",
    "# 读表头\n",
    "for i in range(ord(\"A\"), ord(\"T\")+1):\n",
    "    col = chr(i)\n",
    "    table_head = sheet[col+\"1\"].value\n",
    "    w_sheet[col+\"1\"].value = table_head\n",
    "    \n",
    "w_sheet[\"U1\"].value = \"总值\"\n",
    "    \n",
    "write_row = 2 # 记录当前写的位置\n",
    "for read_row in range(2, 69):\n",
    "    # 跳过没有风化的\n",
    "    if sheet[\"T\"+str(read_row)].value != \"风化\":\n",
    "        continue\n",
    "    \n",
    "    type_ = sheet[\"R\"+str(read_row)].value\n",
    "    wenshi = sheet[\"Q\"+str(read_row)].value\n",
    "    color = sheet[\"S\"+str(read_row)].value\n",
    "    key = (type_, wenshi, color)\n",
    "        \n",
    "    # 枚举表头:各个化学成分\n",
    "    for i in range(ord(\"A\"), ord(\"T\")+1):\n",
    "        col = chr(i)\n",
    "        table_head = sheet[col+\"1\"].value\n",
    "        \n",
    "        if table_head in component_names:\n",
    "            # 是化学成分\n",
    "            if table_head in expectMap[type_]:\n",
    "                # 风化敏感型变量\n",
    "                mu = expectMap[type_][table_head][\"风化\"][\"mu\"]\n",
    "                sigma = expectMap[type_][table_head][\"风化\"][\"sigma\"]\n",
    "                mu_ = expectMap[type_][table_head][\"无风化\"][\"mu\"]\n",
    "                sigma_ = expectMap[type_][table_head][\"无风化\"][\"sigma\"]\n",
    "                \n",
    "                c = sheet[col+str(read_row)].value\n",
    "                c_ = mu_ + (c - mu) / sigma * sigma_\n",
    "                expect_val = c_\n",
    "            else:\n",
    "                # 风化不敏感型变量，直接取同类的平均\n",
    "                \n",
    "                if key in avgMap:\n",
    "                    # 存在完全相同的未风化类别\n",
    "                    expect_val = avgMap[key][table_head][\"avg\"]\n",
    "                else:\n",
    "                    print(\"apply multi average\", key)\n",
    "                    \n",
    "                    sum_ = 0\n",
    "                    n = 0\n",
    "                    for key_new in avgMap:\n",
    "                        # 需要类型和颜色与当前样本一致的一组无风化样本\n",
    "                        if key_new[0] == type_ and key_new[2] == color:\n",
    "                            avg = avgMap[key_new][table_head][\"avg\"]\n",
    "                            sum_ += avg * avgMap[key_new][table_head][\"n\"]\n",
    "                            n += avgMap[key_new][table_head][\"n\"]\n",
    "                            \n",
    "                    if n == 0:\n",
    "                        sum_ = 0\n",
    "                        n = 0\n",
    "                        for key_new in avgMap:\n",
    "                            # 需要类型和纹饰与当前样本一致的一组无风化样本\n",
    "                            if key_new[0] == type_ and key_new[1] == wenshi:\n",
    "                                avg = avgMap[key_new][table_head][\"avg\"]\n",
    "                                sum_ += avg * avgMap[key_new][table_head][\"n\"]\n",
    "                                n += avgMap[key_new][table_head][\"n\"]\n",
    "                                \n",
    "                    expect_val = sum_ / n\n",
    "            \n",
    "            # 如果预测值小于0，就取0\n",
    "            if expect_val < 0: expect_val = 0\n",
    "            \n",
    "            # 写入预测值\n",
    "            w_sheet[col+str(write_row)].value = expect_val\n",
    "            \n",
    "        else:\n",
    "            # 非化学成分项：保持与原表相同即可\n",
    "            w_sheet[col+str(write_row)].value = sheet[col+str(read_row)].value\n",
    "    \n",
    "    # 将各种化学成分加和\n",
    "    sum_ = 0\n",
    "    for i in range(ord(\"B\"), ord(\"O\")+1):\n",
    "        col = chr(i)\n",
    "        sum_ += w_sheet[col+str(write_row)].value\n",
    "    w_sheet[\"U\"+str(write_row)].value = sum_\n",
    "    \n",
    "    write_row += 1\n",
    "\n",
    "wb.save(\"风化前预测值.xlsx\")\n",
    "print(\"已写入文件\")"
   ]
  },
  {
   "cell_type": "code",
   "execution_count": 181,
   "metadata": {},
   "outputs": [
    {
     "data": {
      "text/plain": [
       "{'二氧化硅(SiO2)': {'n': 7, 'avg': 68.62285714285714},\n",
       " '氧化钠(Na2O)': {'n': 7, 'avg': 0.0},\n",
       " '氧化钾(K2O)': {'n': 7, 'avg': 7.604285714285713},\n",
       " '氧化钙(CaO)': {'n': 7, 'avg': 4.638571428571429},\n",
       " '氧化镁(MgO)': {'n': 7, 'avg': 1.3385714285714287},\n",
       " '氧化铝(Al2O3)': {'n': 7, 'avg': 7.2700000000000005},\n",
       " '氧化铁(Fe2O3)': {'n': 7, 'avg': 2.52},\n",
       " '氧化铜(CuO)': {'n': 7, 'avg': 2.7557142857142862},\n",
       " '氧化铅(PbO)': {'n': 7, 'avg': 0.4585714285714286},\n",
       " '氧化钡(BaO)': {'n': 7, 'avg': 1.0257142857142856},\n",
       " '五氧化二磷(P2O5)': {'n': 7, 'avg': 1.8385714285714285},\n",
       " '氧化锶(SrO)': {'n': 7, 'avg': 0.055714285714285716},\n",
       " '氧化锡(SnO2)': {'n': 7, 'avg': 0.0},\n",
       " '二氧化硫(SO2)': {'n': 7, 'avg': 0.11857142857142856}}"
      ]
     },
     "execution_count": 181,
     "metadata": {},
     "output_type": "execute_result"
    }
   ],
   "source": [
    "avgMap[('高钾', 'A', '蓝绿')]"
   ]
  },
  {
   "cell_type": "code",
   "execution_count": null,
   "metadata": {},
   "outputs": [],
   "source": []
  },
  {
   "cell_type": "code",
   "execution_count": null,
   "metadata": {},
   "outputs": [],
   "source": []
  },
  {
   "cell_type": "markdown",
   "metadata": {},
   "source": [
    "手动的模拟预测"
   ]
  },
  {
   "cell_type": "code",
   "execution_count": 131,
   "metadata": {},
   "outputs": [
    {
     "data": {
      "text/plain": [
       "63.57813889831152"
      ]
     },
     "execution_count": 131,
     "metadata": {},
     "output_type": "execute_result"
    }
   ],
   "source": [
    "# 铅钡 风化 二氧化硅(SiO2) mu = 24.912692, sigma = 10.399526\n",
    "# 铅钡 无风化 二氧化硅(SiO2) mu = 54.659565, sigma = 11.568589\n",
    "mu = 24.912692\n",
    "sigma = 10.399526\n",
    "mu_ = 54.659565\n",
    "sigma_ = 11.568589\n",
    "\n",
    "c = 32.93\n",
    "c_ = mu_ + (c - mu) / sigma * sigma_\n",
    "c_"
   ]
  },
  {
   "cell_type": "code",
   "execution_count": 134,
   "metadata": {},
   "outputs": [
    {
     "data": {
      "text/plain": [
       "30.222148393964943"
      ]
     },
     "execution_count": 134,
     "metadata": {},
     "output_type": "execute_result"
    }
   ],
   "source": [
    "# 铅钡 氧化铅 前mu = 43.313846, sigma = 11.992722\n",
    "# 后mu = 22.084783, sigma = 8.034573\n",
    "mu = 43.313846\n",
    "sigma = 11.992722\n",
    "mu_ = 22.084783\n",
    "sigma_ = 8.034573\n",
    "\n",
    "c = 55.46\n",
    "c_ = mu_ + (c - mu) / sigma * sigma_\n",
    "c_"
   ]
  },
  {
   "cell_type": "code",
   "execution_count": 136,
   "metadata": {},
   "outputs": [
    {
     "data": {
      "text/plain": [
       "82.85020653455581"
      ]
     },
     "execution_count": 136,
     "metadata": {},
     "output_type": "execute_result"
    }
   ],
   "source": [
    "# 高钾 风化 二氧化硅(SiO2) mu = 93.963333, sigma = 1.582568\n",
    "# 高钾 无风化 二氧化硅(SiO2) mu = 67.984167, sigma = 8.382369\n",
    "mu = 93.963333\n",
    "sigma = 1.582568\n",
    "mu_ = 67.984167\n",
    "sigma_ = 8.382369\n",
    "\n",
    "c = 96.77\n",
    "c_ = mu_ + (c - mu) / sigma * sigma_\n",
    "c_"
   ]
  },
  {
   "cell_type": "code",
   "execution_count": null,
   "metadata": {},
   "outputs": [],
   "source": []
  },
  {
   "cell_type": "code",
   "execution_count": null,
   "metadata": {},
   "outputs": [],
   "source": []
  },
  {
   "cell_type": "code",
   "execution_count": 58,
   "metadata": {},
   "outputs": [],
   "source": []
  },
  {
   "cell_type": "code",
   "execution_count": 64,
   "metadata": {},
   "outputs": [
    {
     "name": "stderr",
     "output_type": "stream",
     "text": [
      "C:\\Users\\21104\\AppData\\Roaming\\Python\\Python39\\site-packages\\scipy\\stats\\_continuous_distns.py:4530: IntegrationWarning: The integral is probably divergent, or slowly convergent.\n",
      "  intg = integrate.quad(f, -xi, np.pi/2, **intg_kwargs)[0]\n"
     ]
    }
   ],
   "source": [
    "import statsmodels.api as sm"
   ]
  },
  {
   "cell_type": "code",
   "execution_count": 65,
   "metadata": {},
   "outputs": [
    {
     "data": {
      "image/png": "[encoded data removed]",
      "text/plain": [
       "<Figure size 432x288 with 1 Axes>"
      ]
     },
     "metadata": {
      "needs_background": "light"
     },
     "output_type": "display_data"
    }
   ],
   "source": [
    "import pylab\n",
    "arr = np.array(volume)\n",
    "sm.qqplot(arr, line='s')\n",
    "pylab.show()\n",
    "# 生成Q-Q图"
   ]
  },
  {
   "cell_type": "markdown",
   "metadata": {},
   "source": [
    "柯尔莫戈洛夫-斯米诺夫检验（Kolmogorov-Smirnov test），一般又称K-S检验.\n",
    "用以检验两个经验分布是否不同或一个经验分布与另一个理想分布是否不同。"
   ]
  },
  {
   "cell_type": "code",
   "execution_count": 68,
   "metadata": {},
   "outputs": [
    {
     "data": {
      "text/plain": [
       "KstestResult(statistic=1.0, pvalue=0.0)"
      ]
     },
     "execution_count": 68,
     "metadata": {},
     "output_type": "execute_result"
    }
   ],
   "source": [
    "kstest(arr, cdf = \"norm\")"
   ]
  },
  {
   "cell_type": "code",
   "execution_count": 72,
   "metadata": {},
   "outputs": [
    {
     "data": {
      "text/plain": [
       "scipy.stats.morestats.ShapiroResult"
      ]
     },
     "execution_count": 72,
     "metadata": {},
     "output_type": "execute_result"
    },
    {
     "name": "stderr",
     "output_type": "stream",
     "text": [
      "C:\\Users\\21104\\AppData\\Roaming\\Python\\Python39\\site-packages\\scipy\\stats\\_continuous_distns.py:4530: IntegrationWarning: The integral is probably divergent, or slowly convergent.\n",
      "  intg = integrate.quad(f, -xi, np.pi/2, **intg_kwargs)[0]\n"
     ]
    }
   ],
   "source": [
    "# 大于0.05，说明该分布符合正态分布\n",
    "# 返回两个值，分别是检验统计量和P值\n",
    "shapiro_res = shapiro(arr)\n",
    "type(shapiro_res)"
   ]
  },
  {
   "cell_type": "code",
   "execution_count": 85,
   "metadata": {},
   "outputs": [
    {
     "name": "stdout",
     "output_type": "stream",
     "text": [
      "[[-1.09540881 -1.79602419 -3.00879175 -0.83349552  1.01900026  0.3639996\n",
      "  -2.94053378  0.19803405  1.44590205  3.03983031]]\n",
      "[distfit] >fit..\n",
      "[distfit] >transform..\n",
      "[distfit] >[norm      ] [0.00 sec] [RSS: 6.98431] [loc=-0.361 scale=1.846]\n",
      "[distfit] >[expon     ] [0.0 sec] [RSS: 6.86702] [loc=-3.009 scale=2.648]\n",
      "[distfit] >[pareto    ] [0.08 sec] [RSS: 6.83331] [loc=-4.193 scale=1.184]\n",
      "[distfit] >[dweibull  ] [0.06 sec] [RSS: 6.85373] [loc=-0.351 scale=1.775]\n",
      "[distfit] >[t         ] [0.15 sec] [RSS: 6.98431] [loc=-0.361 scale=1.846]\n",
      "[distfit] >[genextreme] [0.14 sec] [RSS: 6.98056] [loc=-1.030 scale=1.786]\n",
      "[distfit] >[gamma     ] [0.14 sec] [RSS: 6.98733] [loc=-13.978 scale=0.251]\n",
      "[distfit] >[lognorm   ] [0.06 sec] [RSS: 6.99165] [loc=-16.195 scale=15.727]\n",
      "[distfit] >[beta      ] [0.20 sec] [RSS: 6.00455] [loc=-3.009 scale=6.701]\n",
      "[distfit] >[uniform   ] [0.0 sec] [RSS: 6.83325] [loc=-3.009 scale=6.049]\n",
      "[distfit] >[loggamma  ] [0.10 sec] [RSS: 6.98142] [loc=-498.143 scale=68.908]\n",
      "[distfit] >Compute confidence interval [parametric]\n",
      "[distfit] >plot..\n"
     ]
    },
    {
     "data": {
      "text/plain": [
       "(<Figure size 720x576 with 1 Axes>,\n",
       " <AxesSubplot:title={'center':'\\nbeta\\nRSS(a=0.548239, b=0.891197, loc=-3.00879, scale=6.70132)'}, xlabel='Values', ylabel='Frequency'>)"
      ]
     },
     "execution_count": 85,
     "metadata": {},
     "output_type": "execute_result"
    },
    {
     "data": {
      "image/png": "[encoded data removed]",
      "text/plain": [
       "<Figure size 720x576 with 1 Axes>"
      ]
     },
     "metadata": {
      "needs_background": "light"
     },
     "output_type": "display_data"
    }
   ],
   "source": [
    "from distfit import distfit\n",
    "import numpy as np\n",
    "X = np.random.normal(0, 2, [1,10])\n",
    "print(X)\n",
    "y = [-8,-6,0,1,2,3,4,5,6]\n",
    "dist = distfit(todf=True)\n",
    "dist.fit_transform(X)\n",
    "dist.plot()"
   ]
  },
  {
   "cell_type": "code",
   "execution_count": null,
   "metadata": {},
   "outputs": [],
   "source": []
  }
 ],
 "metadata": {
  "kernelspec": {
   "display_name": "Python 3",
   "language": "python",
   "name": "python3"
  },
  "language_info": {
   "codemirror_mode": {
    "name": "ipython",
    "version": 3
   },
   "file_extension": ".py",
   "mimetype": "text/x-python",
   "name": "python",
   "nbconvert_exporter": "python",
   "pygments_lexer": "ipython3",
   "version": "3.9.1"
  }
 },
 "nbformat": 4,
 "nbformat_minor": 4
}
